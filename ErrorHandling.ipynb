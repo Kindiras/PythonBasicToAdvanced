{
 "cells": [
  {
   "cell_type": "code",
   "execution_count": 8,
   "id": "db920b67",
   "metadata": {},
   "outputs": [],
   "source": [
    "def addNum(a,b):\n",
    "    try:\n",
    "        return(a+b)\n",
    "    except TypeError as err:\n",
    "        print(\"Please enter numbers\",err)"
   ]
  },
  {
   "cell_type": "code",
   "execution_count": 9,
   "id": "4ab56d3e",
   "metadata": {},
   "outputs": [
    {
     "data": {
      "text/plain": [
       "5"
      ]
     },
     "execution_count": 9,
     "metadata": {},
     "output_type": "execute_result"
    }
   ],
   "source": [
    "addNum(2,3)"
   ]
  },
  {
   "cell_type": "code",
   "execution_count": 10,
   "id": "54b14c17",
   "metadata": {},
   "outputs": [
    {
     "name": "stdout",
     "output_type": "stream",
     "text": [
      "Please enter numbers unsupported operand type(s) for +: 'int' and 'str'\n"
     ]
    }
   ],
   "source": [
    "addNum(2,'k')"
   ]
  },
  {
   "cell_type": "code",
   "execution_count": 28,
   "id": "bc2f49c0",
   "metadata": {},
   "outputs": [],
   "source": [
    "def divion(a,b):\n",
    "    try:\n",
    "        return(a/b)\n",
    "    except ValueError as verr:\n",
    "        print(\"please enter numbers\",verr)\n",
    "    except ZeroDivisionError as zerr:\n",
    "        print(\"please don't enter zero for second argument\",zerr)\n",
    "    else:\n",
    "        print(\"thank you\")\n",
    "    finally:\n",
    "        print(\"I am done hahaha!\")"
   ]
  },
  {
   "cell_type": "code",
   "execution_count": 32,
   "id": "463481d2",
   "metadata": {},
   "outputs": [],
   "source": [
    "# see above and try to understand!!"
   ]
  },
  {
   "cell_type": "code",
   "execution_count": 33,
   "id": "9438588f",
   "metadata": {},
   "outputs": [
    {
     "name": "stdout",
     "output_type": "stream",
     "text": [
      "I am done hahaha!\n"
     ]
    },
    {
     "data": {
      "text/plain": [
       "0.6666666666666666"
      ]
     },
     "execution_count": 33,
     "metadata": {},
     "output_type": "execute_result"
    }
   ],
   "source": [
    "divion(2,3)"
   ]
  },
  {
   "cell_type": "code",
   "execution_count": 30,
   "id": "8f0eba40",
   "metadata": {},
   "outputs": [
    {
     "name": "stdout",
     "output_type": "stream",
     "text": [
      "I am done hahaha!\n"
     ]
    },
    {
     "ename": "TypeError",
     "evalue": "unsupported operand type(s) for /: 'int' and 'str'",
     "output_type": "error",
     "traceback": [
      "\u001b[0;31m---------------------------------------------------------------------------\u001b[0m",
      "\u001b[0;31mTypeError\u001b[0m                                 Traceback (most recent call last)",
      "Input \u001b[0;32mIn [30]\u001b[0m, in \u001b[0;36m<cell line: 1>\u001b[0;34m()\u001b[0m\n\u001b[0;32m----> 1\u001b[0m \u001b[43mdivion\u001b[49m\u001b[43m(\u001b[49m\u001b[38;5;241;43m2\u001b[39;49m\u001b[43m,\u001b[49m\u001b[38;5;124;43m'\u001b[39;49m\u001b[38;5;124;43mk\u001b[39;49m\u001b[38;5;124;43m'\u001b[39;49m\u001b[43m)\u001b[49m\n",
      "Input \u001b[0;32mIn [28]\u001b[0m, in \u001b[0;36mdivion\u001b[0;34m(a, b)\u001b[0m\n\u001b[1;32m      1\u001b[0m \u001b[38;5;28;01mdef\u001b[39;00m \u001b[38;5;21mdivion\u001b[39m(a,b):\n\u001b[1;32m      2\u001b[0m     \u001b[38;5;28;01mtry\u001b[39;00m:\n\u001b[0;32m----> 3\u001b[0m         \u001b[38;5;28;01mreturn\u001b[39;00m(\u001b[43ma\u001b[49m\u001b[38;5;241;43m/\u001b[39;49m\u001b[43mb\u001b[49m)\n\u001b[1;32m      4\u001b[0m     \u001b[38;5;28;01mexcept\u001b[39;00m \u001b[38;5;167;01mValueError\u001b[39;00m \u001b[38;5;28;01mas\u001b[39;00m verr:\n\u001b[1;32m      5\u001b[0m         \u001b[38;5;28mprint\u001b[39m(\u001b[38;5;124m\"\u001b[39m\u001b[38;5;124mplease enter numbers\u001b[39m\u001b[38;5;124m\"\u001b[39m,verr)\n",
      "\u001b[0;31mTypeError\u001b[0m: unsupported operand type(s) for /: 'int' and 'str'"
     ]
    }
   ],
   "source": [
    "divion(2,'k')"
   ]
  },
  {
   "cell_type": "code",
   "execution_count": 31,
   "id": "f477db5b",
   "metadata": {},
   "outputs": [
    {
     "name": "stdout",
     "output_type": "stream",
     "text": [
      "please don't enter zero for second argument division by zero\n",
      "I am done hahaha!\n"
     ]
    }
   ],
   "source": [
    "divion(2,0)"
   ]
  },
  {
   "cell_type": "code",
   "execution_count": null,
   "id": "f486e782",
   "metadata": {},
   "outputs": [],
   "source": []
  }
 ],
 "metadata": {
  "kernelspec": {
   "display_name": "Python 3 (ipykernel)",
   "language": "python",
   "name": "python3"
  },
  "language_info": {
   "codemirror_mode": {
    "name": "ipython",
    "version": 3
   },
   "file_extension": ".py",
   "mimetype": "text/x-python",
   "name": "python",
   "nbconvert_exporter": "python",
   "pygments_lexer": "ipython3",
   "version": "3.9.7"
  }
 },
 "nbformat": 4,
 "nbformat_minor": 5
}
