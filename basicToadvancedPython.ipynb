{
 "cells": [
  {
   "cell_type": "code",
   "execution_count": 2,
   "id": "fe65de43",
   "metadata": {},
   "outputs": [],
   "source": [
    "#Concatinate using f''"
   ]
  },
  {
   "cell_type": "code",
   "execution_count": 3,
   "id": "03e2ee90",
   "metadata": {},
   "outputs": [
    {
     "name": "stdout",
     "output_type": "stream",
     "text": [
      "Indiras and 36\n",
      "My name is Indiras and age is 36\n",
      "Indiras36\n"
     ]
    }
   ],
   "source": [
    "name ='Indiras'\n",
    "age = 36\n",
    "fulname = f'{name} and {age}'\n",
    "print(fulname)\n",
    "print(f'My name is {name} and age is {age}')\n",
    "print(name + str( age))\n"
   ]
  },
  {
   "cell_type": "code",
   "execution_count": 4,
   "id": "be92a9e0",
   "metadata": {},
   "outputs": [
    {
     "data": {
      "text/plain": [
       "' *args non keyword arguments and **kwargs keyword arguments, the former passes arguments are tuple'"
      ]
     },
     "execution_count": 4,
     "metadata": {},
     "output_type": "execute_result"
    }
   ],
   "source": [
    "\"\"\" *args non keyword arguments and **kwargs keyword arguments, the former passes arguments are tuple\"\"\"\n"
   ]
  },
  {
   "cell_type": "code",
   "execution_count": 5,
   "id": "08aa9921",
   "metadata": {},
   "outputs": [
    {
     "name": "stdout",
     "output_type": "stream",
     "text": [
      "110.0\n",
      "FirstName is Indiras\n",
      "LastName is Khatri\n",
      "age is 35\n",
      "zipcode is 43614\n"
     ]
    }
   ],
   "source": [
    "def adder(*args):\n",
    "    return sum(args)\n",
    "\n",
    "\n",
    "def myIntro(**kwargs):\n",
    "    for key,value in kwargs.items():\n",
    "        print(f'{key} is {value}')\n",
    "\n",
    "if __name__ == \"__main__\":\n",
    "    print(adder(10.0,10.0,30,60))  \n",
    "    myIntro(FirstName=\"Indiras\",LastName = \"Khatri\", age = 35, zipcode = 43614)  \n"
   ]
  },
  {
   "cell_type": "code",
   "execution_count": 6,
   "id": "ea3d6022",
   "metadata": {},
   "outputs": [],
   "source": [
    "#Walrus operator"
   ]
  },
  {
   "cell_type": "code",
   "execution_count": 7,
   "id": "be7daa71",
   "metadata": {},
   "outputs": [
    {
     "name": "stdout",
     "output_type": "stream",
     "text": [
      "The value is too large 11\n",
      "11\n",
      "10\n",
      "9\n",
      "8\n",
      "7\n",
      "6\n",
      "5\n",
      "4\n",
      "3\n",
      "2\n"
     ]
    }
   ],
   "source": [
    "\n",
    "\n",
    "a = \"HiEveryBody\"\n",
    "\n",
    "if((n:=len(a))>5):\n",
    "    print(f'The value is too large {n}')\n",
    "\n",
    "while((n:=len(a))>1):\n",
    "    print(n)\n",
    "    a=a[:-1]    "
   ]
  },
  {
   "cell_type": "code",
   "execution_count": 12,
   "id": "334bbbb4",
   "metadata": {},
   "outputs": [],
   "source": [
    "# Scope: what variables do I have access to ?? is scope\n",
    "# Global scope for global variable and function scope for function variable\n",
    "# first check the local scope\n",
    "## Nothing in the local scope then parent local\n",
    "### then check the global\n",
    "# Don't get confiused in below example"
   ]
  },
  {
   "cell_type": "code",
   "execution_count": 13,
   "id": "b109b981",
   "metadata": {},
   "outputs": [
    {
     "name": "stdout",
     "output_type": "stream",
     "text": [
      "10\n",
      "9\n"
     ]
    }
   ],
   "source": [
    "x = 10\n",
    "def confusion():\n",
    "    x = 9\n",
    "    return((x))\n",
    "print(x)\n",
    "print(confusion())"
   ]
  },
  {
   "cell_type": "code",
   "execution_count": 14,
   "id": "0135e4e7",
   "metadata": {},
   "outputs": [
    {
     "name": "stdout",
     "output_type": "stream",
     "text": [
      "9\n",
      "10\n"
     ]
    }
   ],
   "source": [
    "x = 10\n",
    "def confusion():\n",
    "    x = 9\n",
    "    return((x))\n",
    "print(confusion())\n",
    "print(x)"
   ]
  },
  {
   "cell_type": "code",
   "execution_count": null,
   "id": "7a25abec",
   "metadata": {},
   "outputs": [],
   "source": []
  }
 ],
 "metadata": {
  "kernelspec": {
   "display_name": "Python 3 (ipykernel)",
   "language": "python",
   "name": "python3"
  },
  "language_info": {
   "codemirror_mode": {
    "name": "ipython",
    "version": 3
   },
   "file_extension": ".py",
   "mimetype": "text/x-python",
   "name": "python",
   "nbconvert_exporter": "python",
   "pygments_lexer": "ipython3",
   "version": "3.9.7"
  }
 },
 "nbformat": 4,
 "nbformat_minor": 5
}
