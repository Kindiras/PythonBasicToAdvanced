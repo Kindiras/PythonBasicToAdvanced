{
 "cells": [
  {
   "cell_type": "code",
   "execution_count": 1,
   "id": "cf0ab6d9",
   "metadata": {},
   "outputs": [],
   "source": [
    "#map,filter,zip,and reduce"
   ]
  },
  {
   "cell_type": "code",
   "execution_count": 2,
   "id": "87acb9b8",
   "metadata": {},
   "outputs": [],
   "source": [
    "#map(fun,iter)"
   ]
  },
  {
   "cell_type": "code",
   "execution_count": 14,
   "id": "bf7fd94e",
   "metadata": {},
   "outputs": [],
   "source": [
    "def square(n):\n",
    "    return n**2"
   ]
  },
  {
   "cell_type": "code",
   "execution_count": 25,
   "id": "576423a2",
   "metadata": {},
   "outputs": [],
   "source": [
    "num = [1,2,3,4]"
   ]
  },
  {
   "cell_type": "code",
   "execution_count": 26,
   "id": "7f90f5d6",
   "metadata": {},
   "outputs": [],
   "source": [
    "sqr = (map(square,num))"
   ]
  },
  {
   "cell_type": "code",
   "execution_count": 27,
   "id": "7629a35a",
   "metadata": {},
   "outputs": [
    {
     "data": {
      "text/plain": [
       "<map at 0x7fdbe392a160>"
      ]
     },
     "execution_count": 27,
     "metadata": {},
     "output_type": "execute_result"
    }
   ],
   "source": [
    "sqr"
   ]
  },
  {
   "cell_type": "code",
   "execution_count": 28,
   "id": "c658bc3c",
   "metadata": {},
   "outputs": [
    {
     "data": {
      "text/plain": [
       "[1, 4, 9, 16]"
      ]
     },
     "execution_count": 28,
     "metadata": {},
     "output_type": "execute_result"
    }
   ],
   "source": [
    "list(sqr)"
   ]
  },
  {
   "cell_type": "markdown",
   "id": "f838d2a7",
   "metadata": {},
   "source": [
    "filter"
   ]
  },
  {
   "cell_type": "code",
   "execution_count": 19,
   "id": "082b466f",
   "metadata": {},
   "outputs": [],
   "source": [
    "def oddFinder(n):\n",
    "    return n%2!=0"
   ]
  },
  {
   "cell_type": "code",
   "execution_count": 20,
   "id": "31f0f08c",
   "metadata": {},
   "outputs": [],
   "source": [
    "odd = filter(oddFinder,num)"
   ]
  },
  {
   "cell_type": "code",
   "execution_count": 21,
   "id": "1812922b",
   "metadata": {},
   "outputs": [
    {
     "data": {
      "text/plain": [
       "[1, 3]"
      ]
     },
     "execution_count": 21,
     "metadata": {},
     "output_type": "execute_result"
    }
   ],
   "source": [
    "list(odd)"
   ]
  },
  {
   "cell_type": "markdown",
   "id": "2e8d98a8",
   "metadata": {},
   "source": [
    "zip"
   ]
  },
  {
   "cell_type": "code",
   "execution_count": 32,
   "id": "d4330c76",
   "metadata": {},
   "outputs": [
    {
     "data": {
      "text/plain": [
       "[1, 2, 3, 4]"
      ]
     },
     "execution_count": 32,
     "metadata": {},
     "output_type": "execute_result"
    }
   ],
   "source": [
    "num"
   ]
  },
  {
   "cell_type": "code",
   "execution_count": 33,
   "id": "3b151df5",
   "metadata": {},
   "outputs": [],
   "source": [
    "num1 = [1,4,9,16]"
   ]
  },
  {
   "cell_type": "code",
   "execution_count": 36,
   "id": "00380571",
   "metadata": {},
   "outputs": [
    {
     "name": "stdout",
     "output_type": "stream",
     "text": [
      "[(1, 1), (2, 4), (3, 9), (4, 16)]\n"
     ]
    }
   ],
   "source": [
    "print(list(zip(num,num1)))"
   ]
  },
  {
   "cell_type": "code",
   "execution_count": 38,
   "id": "31c7789e",
   "metadata": {},
   "outputs": [],
   "source": [
    "num2 = [1,8,27,64]"
   ]
  },
  {
   "cell_type": "code",
   "execution_count": 39,
   "id": "25ccc093",
   "metadata": {},
   "outputs": [
    {
     "name": "stdout",
     "output_type": "stream",
     "text": [
      "[(1, 1, 1), (2, 4, 8), (3, 9, 27), (4, 16, 64)]\n"
     ]
    }
   ],
   "source": [
    "print(list(zip(num,num1,num2)))"
   ]
  },
  {
   "cell_type": "markdown",
   "id": "5d4a22e5",
   "metadata": {},
   "source": [
    "reduce"
   ]
  },
  {
   "cell_type": "code",
   "execution_count": 41,
   "id": "d13b48f0",
   "metadata": {},
   "outputs": [],
   "source": [
    "from functools import reduce"
   ]
  },
  {
   "cell_type": "code",
   "execution_count": 43,
   "id": "9821c83a",
   "metadata": {},
   "outputs": [],
   "source": [
    "def addNumber(a,b):\n",
    "    return a+b"
   ]
  },
  {
   "cell_type": "code",
   "execution_count": 44,
   "id": "f1f4d27c",
   "metadata": {},
   "outputs": [
    {
     "name": "stdout",
     "output_type": "stream",
     "text": [
      "10\n"
     ]
    }
   ],
   "source": [
    "print(reduce(addNumber,num))"
   ]
  },
  {
   "cell_type": "code",
   "execution_count": 45,
   "id": "0c50de40",
   "metadata": {},
   "outputs": [
    {
     "name": "stdout",
     "output_type": "stream",
     "text": [
      "110\n"
     ]
    }
   ],
   "source": [
    "print(reduce(addNumber,num,100))"
   ]
  },
  {
   "cell_type": "code",
   "execution_count": 50,
   "id": "583d80ee",
   "metadata": {},
   "outputs": [],
   "source": [
    "def findMax(a,b):\n",
    "    if(a>b):\n",
    "        return a\n",
    "    else:\n",
    "        return b"
   ]
  },
  {
   "cell_type": "code",
   "execution_count": 51,
   "id": "00ab5fb1",
   "metadata": {},
   "outputs": [
    {
     "name": "stdout",
     "output_type": "stream",
     "text": [
      "4\n"
     ]
    }
   ],
   "source": [
    "print(reduce(findMax,num))"
   ]
  },
  {
   "cell_type": "code",
   "execution_count": 54,
   "id": "acc954d5",
   "metadata": {},
   "outputs": [],
   "source": [
    "def findMin(a,b):\n",
    "    if(a<b):\n",
    "        return a\n",
    "    else:\n",
    "        return b"
   ]
  },
  {
   "cell_type": "code",
   "execution_count": 55,
   "id": "77eb0c47",
   "metadata": {},
   "outputs": [
    {
     "name": "stdout",
     "output_type": "stream",
     "text": [
      "1\n"
     ]
    }
   ],
   "source": [
    "print(reduce(findMin,num))"
   ]
  },
  {
   "cell_type": "code",
   "execution_count": 57,
   "id": "3eb0a8a0",
   "metadata": {},
   "outputs": [
    {
     "ename": "TypeError",
     "evalue": "oddFinder() takes 1 positional argument but 2 were given",
     "output_type": "error",
     "traceback": [
      "\u001b[0;31m---------------------------------------------------------------------------\u001b[0m",
      "\u001b[0;31mTypeError\u001b[0m                                 Traceback (most recent call last)",
      "Input \u001b[0;32mIn [57]\u001b[0m, in \u001b[0;36m<cell line: 1>\u001b[0;34m()\u001b[0m\n\u001b[0;32m----> 1\u001b[0m \u001b[38;5;28mprint\u001b[39m(\u001b[43mreduce\u001b[49m\u001b[43m(\u001b[49m\u001b[43moddFinder\u001b[49m\u001b[43m,\u001b[49m\u001b[43mnum\u001b[49m\u001b[43m)\u001b[49m)\n",
      "\u001b[0;31mTypeError\u001b[0m: oddFinder() takes 1 positional argument but 2 were given"
     ]
    }
   ],
   "source": [
    "print(reduce(oddFinder,num))"
   ]
  },
  {
   "cell_type": "markdown",
   "id": "ff2a1dc4",
   "metadata": {},
   "source": [
    "# See the error above the function needs two arguments"
   ]
  },
  {
   "cell_type": "markdown",
   "id": "709f1165",
   "metadata": {},
   "source": [
    "## lambda expression"
   ]
  },
  {
   "cell_type": "markdown",
   "id": "28af3b46",
   "metadata": {},
   "source": [
    "lambda arguments : expression"
   ]
  },
  {
   "cell_type": "code",
   "execution_count": 58,
   "id": "70eb82a1",
   "metadata": {},
   "outputs": [
    {
     "name": "stdout",
     "output_type": "stream",
     "text": [
      "12\n"
     ]
    }
   ],
   "source": [
    "x = (lambda a : a+10)\n",
    "print(x(2))"
   ]
  },
  {
   "cell_type": "code",
   "execution_count": 59,
   "id": "707f0365",
   "metadata": {},
   "outputs": [
    {
     "name": "stdout",
     "output_type": "stream",
     "text": [
      "9\n"
     ]
    }
   ],
   "source": [
    "x = lambda a,b,c:a+b+c\n",
    "print(x(2,3,4))"
   ]
  },
  {
   "cell_type": "code",
   "execution_count": 60,
   "id": "87c97a65",
   "metadata": {},
   "outputs": [
    {
     "name": "stdout",
     "output_type": "stream",
     "text": [
      "12\n"
     ]
    }
   ],
   "source": [
    "def multiplyByunknown(n):\n",
    "    return lambda a : a*n\n",
    "\n",
    "myValue = multiplyByunknown(3)\n",
    "print(myValue(4))"
   ]
  },
  {
   "cell_type": "code",
   "execution_count": 68,
   "id": "496af86b",
   "metadata": {},
   "outputs": [
    {
     "name": "stdout",
     "output_type": "stream",
     "text": [
      "[2, 4, 6, 8]\n"
     ]
    }
   ],
   "source": [
    "print(list(map(lambda num : num*2,num)))"
   ]
  },
  {
   "cell_type": "code",
   "execution_count": 98,
   "id": "6daf0dfe",
   "metadata": {},
   "outputs": [],
   "source": [
    "nn = [(1,2),(3,4),(10,-2),(9,9)]"
   ]
  },
  {
   "cell_type": "code",
   "execution_count": 99,
   "id": "a9158c00",
   "metadata": {},
   "outputs": [
    {
     "data": {
      "text/plain": [
       "[(1, 2), (3, 4), (10, -2), (9, 9)]"
      ]
     },
     "execution_count": 99,
     "metadata": {},
     "output_type": "execute_result"
    }
   ],
   "source": [
    "nn"
   ]
  },
  {
   "cell_type": "code",
   "execution_count": 100,
   "id": "b42ba771",
   "metadata": {},
   "outputs": [],
   "source": [
    "nn.sort(key = lambda x:x[1])"
   ]
  },
  {
   "cell_type": "code",
   "execution_count": 101,
   "id": "399758f2",
   "metadata": {},
   "outputs": [
    {
     "name": "stdout",
     "output_type": "stream",
     "text": [
      "[(10, -2), (1, 2), (3, 4), (9, 9)]\n"
     ]
    }
   ],
   "source": [
    "print(nn)"
   ]
  },
  {
   "cell_type": "code",
   "execution_count": 94,
   "id": "c83a48b2",
   "metadata": {},
   "outputs": [],
   "source": [
    "random = [(2, 2), (3, 4), (4, 1), (1, 3)]"
   ]
  },
  {
   "cell_type": "code",
   "execution_count": 96,
   "id": "d394b3fd",
   "metadata": {},
   "outputs": [],
   "source": [
    "(random.sort(key = lambda x:x[1]))"
   ]
  },
  {
   "cell_type": "code",
   "execution_count": 97,
   "id": "db3137b6",
   "metadata": {},
   "outputs": [
    {
     "name": "stdout",
     "output_type": "stream",
     "text": [
      "[(4, 1), (2, 2), (1, 3), (3, 4)]\n"
     ]
    }
   ],
   "source": [
    "print(random)"
   ]
  },
  {
   "cell_type": "code",
   "execution_count": 102,
   "id": "d36b2a09",
   "metadata": {},
   "outputs": [],
   "source": [
    "nn.sort(key = lambda x:x[0])"
   ]
  },
  {
   "cell_type": "code",
   "execution_count": 103,
   "id": "22815e92",
   "metadata": {},
   "outputs": [
    {
     "name": "stdout",
     "output_type": "stream",
     "text": [
      "[(1, 2), (3, 4), (9, 9), (10, -2)]\n"
     ]
    }
   ],
   "source": [
    "print(nn)"
   ]
  },
  {
   "cell_type": "code",
   "execution_count": null,
   "id": "55170cbc",
   "metadata": {},
   "outputs": [],
   "source": []
  }
 ],
 "metadata": {
  "kernelspec": {
   "display_name": "Python 3 (ipykernel)",
   "language": "python",
   "name": "python3"
  },
  "language_info": {
   "codemirror_mode": {
    "name": "ipython",
    "version": 3
   },
   "file_extension": ".py",
   "mimetype": "text/x-python",
   "name": "python",
   "nbconvert_exporter": "python",
   "pygments_lexer": "ipython3",
   "version": "3.9.7"
  }
 },
 "nbformat": 4,
 "nbformat_minor": 5
}
