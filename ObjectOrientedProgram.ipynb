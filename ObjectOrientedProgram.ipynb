{
 "cells": [
  {
   "cell_type": "code",
   "execution_count": 5,
   "id": "e70fa4fd",
   "metadata": {},
   "outputs": [],
   "source": [
    "#Object Oriented Program (OOP) in python \n",
    "#Following example is good to understand the basic concept of class in python "
   ]
  },
  {
   "cell_type": "code",
   "execution_count": 6,
   "id": "e0d15795",
   "metadata": {},
   "outputs": [],
   "source": [
    "class Point:\n",
    "    def __init__(self,x,y):\n",
    "        self.x = x\n",
    "        self.y = y\n",
    "    def midPoint(self,m,n):\n",
    "        return((self.x + m)*0.5,(self.y+n)*0.5)"
   ]
  },
  {
   "cell_type": "code",
   "execution_count": 8,
   "id": "04b26391",
   "metadata": {},
   "outputs": [
    {
     "name": "stdout",
     "output_type": "stream",
     "text": [
      "(4.0, 5.0)\n",
      "(7.5, 7.5)\n"
     ]
    }
   ],
   "source": [
    "pt = Point(3,4)\n",
    "print(pt.midPoint(5,6))\n",
    "pt1 = Point(8,9)\n",
    "print(pt1.midPoint(7,6))"
   ]
  },
  {
   "cell_type": "code",
   "execution_count": 3,
   "id": "d8b8b11b",
   "metadata": {},
   "outputs": [],
   "source": [
    "#Class Method Decorator: @classmethod\n",
    "\n",
    "#@Syntax:\n",
    "\n",
    "#@classmethod\n",
    "#  def fun(cls, arg1, arg2, ..):"
   ]
  },
  {
   "cell_type": "code",
   "execution_count": 4,
   "id": "aaa46b46",
   "metadata": {},
   "outputs": [],
   "source": [
    "class Point:\n",
    "    def __init__(self,x,y):\n",
    "        self.x = x\n",
    "        self.y = y\n",
    "    def midPoint(self,m,n):\n",
    "        return((self.x + m)*0.5,(self.y+n)*0.5)\n",
    "    @classmethod\n",
    "    def adding(cls,n,m):\n",
    "        return(n+m)\n",
    "    "
   ]
  },
  {
   "cell_type": "code",
   "execution_count": 5,
   "id": "34697730",
   "metadata": {},
   "outputs": [
    {
     "name": "stdout",
     "output_type": "stream",
     "text": [
      "9\n"
     ]
    }
   ],
   "source": [
    "print(Point.adding(4,5))"
   ]
  },
  {
   "cell_type": "markdown",
   "id": "112a97db",
   "metadata": {},
   "source": [
    "With @classmethod we can use methods without instantiate like above two examples"
   ]
  },
  {
   "cell_type": "code",
   "execution_count": 6,
   "id": "34fb4609",
   "metadata": {},
   "outputs": [
    {
     "name": "stdout",
     "output_type": "stream",
     "text": [
      "Simon is just walking around\n",
      "Sally is just walking around\n",
      "Suzy is just walking around\n"
     ]
    }
   ],
   "source": [
    "class Pets():\n",
    "    animals = []\n",
    "    def __init__(self, animals):\n",
    "        self.animals = animals\n",
    "\n",
    "    def walk(self):\n",
    "        for animal in self.animals:\n",
    "            print(animal.walk())\n",
    "\n",
    "class Cat():\n",
    "    is_lazy = True\n",
    "\n",
    "    def __init__(self, name, age):\n",
    "        self.name = name\n",
    "        self.age = age\n",
    "\n",
    "    def walk(self):\n",
    "        return f'{self.name} is just walking around'\n",
    "\n",
    "class Simon(Cat):\n",
    "    def sing(self, sounds):\n",
    "        return f'{sounds}'\n",
    "\n",
    "class Sally(Cat):\n",
    "    def sing(self, sounds):\n",
    "        return f'{sounds}'\n",
    "\n",
    "#1 Add nother Cat\n",
    "class Suzy(Cat):\n",
    "    def sing(self, sounds):\n",
    "        return f'{sounds}'\n",
    "\n",
    "#2 Create a list of all of the pets (create 3 cat instances from the above)\n",
    "my_cats = [Simon('Simon', 4), Sally('Sally', 21), Suzy('Suzy', 1)]\n",
    "\n",
    "#3 Instantiate the Pet class with all your cats\n",
    "my_pets = Pets(my_cats)\n",
    "\n",
    "#4 Output all of the cats singing using the my_pets instance\n",
    "my_pets.walk()"
   ]
  },
  {
   "cell_type": "code",
   "execution_count": null,
   "id": "c9af93ee",
   "metadata": {},
   "outputs": [],
   "source": []
  }
 ],
 "metadata": {
  "kernelspec": {
   "display_name": "Python 3 (ipykernel)",
   "language": "python",
   "name": "python3"
  },
  "language_info": {
   "codemirror_mode": {
    "name": "ipython",
    "version": 3
   },
   "file_extension": ".py",
   "mimetype": "text/x-python",
   "name": "python",
   "nbconvert_exporter": "python",
   "pygments_lexer": "ipython3",
   "version": "3.9.7"
  }
 },
 "nbformat": 4,
 "nbformat_minor": 5
}
